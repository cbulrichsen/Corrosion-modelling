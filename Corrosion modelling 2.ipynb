{
 "cells": [
  {
   "cell_type": "markdown",
   "id": "01f18ec9",
   "metadata": {},
   "source": [
    "# Modelling More Realistic Corrosion"
   ]
  },
  {
   "cell_type": "code",
   "execution_count": 4,
   "id": "75155642",
   "metadata": {},
   "outputs": [],
   "source": [
    "%matplotlib inline\n",
    "import numpy as np\n",
    "import matplotlib.pyplot as plt\n",
    "import sympy\n",
    "import scipy"
   ]
  },
  {
   "cell_type": "markdown",
   "id": "33396618",
   "metadata": {},
   "source": [
    "$$\\require{mhchem}$$"
   ]
  },
  {
   "cell_type": "markdown",
   "id": "87360161",
   "metadata": {},
   "source": [
    "## Mass transfer limited corrosion\n",
    "\n",
    "In the first attempt at modelling corrosion, I used a thickness loss rate per year for steel in atmospheric corrosion to calculate backwards to moles per second of iron oxidation. This is not a very realistic or physical basis for many reasons, not least of which is that atmospheric corrosion is carried out over long periods of time, where the metal is exposed to dry, humid, rain, hot, cold, etc. conditions as the weather and seasons vary. \n",
    "\n",
    "I would this time instead like to try to start from a more real system. I am thinking in this case carbon steel under a layer of salt water where there corrosion rate is limited by mass transfer of oxygen. Carbon steel corrodes readily in oxygen rich salt water, and as oxygen is reduced in the corrosion reaction an oxygen concentration gradient forms between the bulk solution and the metal surface. Assuming the oxygen is consumed faster than is can be transported to the surface, then the oxygen concentration at the surface will eventually reach zero, since it will be consumed instantly as it reaches it. The space this concentration gradient extends from the metal surface is called the Nernst layer. "
   ]
  },
  {
   "cell_type": "markdown",
   "id": "39c10227",
   "metadata": {},
   "source": [
    "### Deriving equations for mass transfer limited corrosion\n",
    "\n",
    "Transport of oxygen through the Nernst layer to the surface of the metal can be determined with Fick's law.\n",
    "\n",
    "$$\n",
    "J_{\\ce{O2}} = -D_{\\ce{O2}}\\frac{dc_{\\ce{O2}}}{dx}\n",
    "$$\n",
    "\n",
    "Here $J_{\\ce{O2}}$ is the flux of $\\ce{O2}$ to the metal surface in $\\frac{mol}{cm^2s}$, $D_{\\ce{O2}}$ is the diffusion coefficient of $\\ce{O2}$ in $\\frac{cm^2}{s}$, $c_{\\ce{O2}}$ is the concentration of $\\ce{O2}$ in $\\frac{mol}{cm^3}$, and $x$ is the distance from the metal surface in cm. The equation can then be integrated from $x = 0$ to $x = \\delta$ which gives\n",
    "\n",
    "$$\n",
    "J_{\\ce{O2}} = -D_{\\ce{O2}}\\frac{c_{\\ce{O2},b} - c_{\\ce{O2},0}}{\\delta}\n",
    "$$\n",
    "\n",
    "where $c_{\\ce{O2},b}$ and $c_{\\ce{O2},0}$ are the bulk and metal surface concentrations of $\\ce{O2}$, respectively, and $\\delta$ is the thickness of the Nernst layer in cm. \n",
    "\n",
    "Faraday's law relates the rate of the reduction reaction to current. It can be expressed in terms of total current:\n",
    "\n",
    "$$\n",
    "I_{red} = \\frac{zFn}{t}\n",
    "$$\n",
    "\n",
    "or in terms of current density:\n",
    "\n",
    "$$\n",
    "i_{red} = \\frac{zFn}{At}\n",
    "$$\n",
    "\n",
    "where $I_{red}$ is the current in A, $i_{red}$ is the current density in $\\frac{A}{cm^2}$, $z$ is the number of electrons involved in the reduction reaction, $F$ is Faraday's constant, $96485 \\frac{C}{mol}$, $n$ is the amount of the reduced species in mol, $t$ is time in s, and $A$ is area in $cm^2$. Since $\\frac{n}{At}$ is the flux, Fick's law can be substituted into Faraday's law, so in the case of oxygen reduction:\n",
    "\n",
    "$$\n",
    "i_{\\ce{O2}} = \\frac{zFn_{\\ce{O2}}}{At} = zFJ_{\\ce{O2}} = -zFD_{\\ce{O2}}\\frac{c_{\\ce{O2},b} - c_{\\ce{O2},0}}{\\delta}\n",
    "$$\n",
    "\n",
    "If the reaction is limited by mass transfer, then $c_{\\ce{O2},0}$ becomes 0 and the equation becomes:\n",
    "\n",
    "$$\n",
    "i_{\\ce{O2}} = -zFD_{\\ce{O2}}\\frac{c_{\\ce{O2},b}}{\\delta} = i_{lim}\n",
    "$$\n",
    "\n",
    "Here, $i_{lim}$ is the limiting current density. \n"
   ]
  },
  {
   "cell_type": "markdown",
   "id": "ab2b553d",
   "metadata": {},
   "source": [
    "### Calculating limiting current density\n",
    "\n",
    "[The Engineering ToolBox](https://www.engineeringtoolbox.com/oxygen-solubility-water-d_841.html) provides oxygen solubility at different temperatures in sea water, which has a salinity of 35 ppt, or 35 g salt per kg sea water. At 25&deg; C and 1 bar, oxygen has a solubility of about 206 &mu;M. Since the partial pressure of oxygen in air is 20%, the concentration of oxygen in the bulk solution would be about 41.2 &mu;M, or 4.12E-5 M. Since there are $1000\\ cm^3$ in a liter, $c_{\\ce{O2},b} = 4.12E-5\\ \\frac{mol}{L} = 4.12E-5\\ \\frac{mol}{1000\\ cm^3} = 4.12E-8\\ \\frac{mol}{cm^3}$. Nernst layer thickness, $\\delta$, can range from 0.1 mm to 0.001 mm depending on stirring rate. The water in this case is not stirred, so I will start with $\\delta = 0.1 mm = 0.01 cm$ as a preliminary estimate. The oxygen reduction reaction (ORR) has the following form\n",
    "\n",
    "$$\n",
    "\\ce{2O2 + 4H2O + 4e- -> 4OH-}\n",
    "$$\n",
    "\n",
    "so $z = 4$. Finally, the diffusion coefficient of oxygen in water at 25&deg; C, also from [The Engineering ToolBox](https://www.engineeringtoolbox.com/diffusion-coefficients-d_1404.html), is $D = 2.42E-5 \\frac{cm^2}{s}$. These values can all then be plugged into the limiting current density equation:\n",
    "\n",
    "$$\n",
    "i_{lim} = -zFD_{\\ce{O2}}\\frac{c_{\\ce{O2},b}}{\\delta} = -4*96485*2.42E-5*\\frac{4.12E-8}{0.01} = -3.85E-5 \\frac{A}{cm^2}\n",
    "$$\n"
   ]
  },
  {
   "cell_type": "code",
   "execution_count": 7,
   "id": "738e2d94",
   "metadata": {},
   "outputs": [
    {
     "name": "stdout",
     "output_type": "stream",
     "text": [
      "-3.847976176e-05\n"
     ]
    }
   ],
   "source": [
    "def i_lim_example():\n",
    "    c_bulk = 4.12E-8\n",
    "    delta = 0.01\n",
    "    F = 96485\n",
    "    z = 4\n",
    "    D = 2.42E-5\n",
    "    i_lim = -z * F * D * c_bulk / delta\n",
    "    return i_lim\n",
    "\n",
    "print(i_lim_example())"
   ]
  },
  {
   "cell_type": "code",
   "execution_count": null,
   "id": "92309765",
   "metadata": {},
   "outputs": [],
   "source": []
  }
 ],
 "metadata": {
  "kernelspec": {
   "display_name": "Python 3 (ipykernel)",
   "language": "python",
   "name": "python3"
  },
  "language_info": {
   "codemirror_mode": {
    "name": "ipython",
    "version": 3
   },
   "file_extension": ".py",
   "mimetype": "text/x-python",
   "name": "python",
   "nbconvert_exporter": "python",
   "pygments_lexer": "ipython3",
   "version": "3.9.13"
  }
 },
 "nbformat": 4,
 "nbformat_minor": 5
}
